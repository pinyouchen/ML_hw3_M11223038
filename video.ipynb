{
 "cells": [
  {
   "cell_type": "code",
   "execution_count": 1,
   "metadata": {},
   "outputs": [
    {
     "name": "stdout",
     "output_type": "stream",
     "text": [
      "Processing SEKU5875349.avi...\n",
      "Finished processing SEKU5875349.avi.\n",
      "Processing TLLU4080736.avi...\n",
      "Finished processing TLLU4080736.avi.\n",
      "Processing TSSU5099400.avi...\n",
      "Finished processing TSSU5099400.avi.\n",
      "Processing WHSU2483178.avi...\n",
      "Finished processing WHSU2483178.avi.\n",
      "Processing WHSU5223791.avi...\n",
      "Finished processing WHSU5223791.avi.\n",
      "Processing WHSU5368199.avi...\n",
      "Finished processing WHSU5368199.avi.\n",
      "Processing WHSU5927851.avi...\n",
      "Finished processing WHSU5927851.avi.\n",
      "Processing WHSU6167120.avi...\n",
      "Finished processing WHSU6167120.avi.\n",
      "Processing WHSU6728690.avi...\n",
      "Finished processing WHSU6728690.avi.\n",
      "Processing WHSU6892256.avi...\n",
      "Finished processing WHSU6892256.avi.\n"
     ]
    }
   ],
   "source": [
    "import cv2\n",
    "import os\n",
    "import numpy as np\n",
    "\n",
    "def adjust_video_for_ocr(input_path, output_path, brightness_factor=1.2, contrast_factor=1.5, saturation_factor=1.2):\n",
    "    cap = cv2.VideoCapture(input_path)\n",
    "    \n",
    "    if not cap.isOpened():\n",
    "        print(f\"Failed to open video file: {input_path}\")\n",
    "        return\n",
    "\n",
    "    fps = cap.get(cv2.CAP_PROP_FPS)\n",
    "    width = int(cap.get(cv2.CAP_PROP_FRAME_WIDTH))\n",
    "    height = int(cap.get(cv2.CAP_PROP_FRAME_HEIGHT))\n",
    "\n",
    "    fourcc = cv2.VideoWriter_fourcc(*'XVID')\n",
    "    out = cv2.VideoWriter(output_path, fourcc, fps, (width, height))\n",
    "\n",
    "    while cap.isOpened():\n",
    "        ret, frame = cap.read()\n",
    "        if not ret:\n",
    "            break\n",
    "\n",
    "        adjusted_frame = cv2.convertScaleAbs(frame, alpha=contrast_factor, beta=brightness_factor * 50)\n",
    "\n",
    "        hsv = cv2.cvtColor(adjusted_frame, cv2.COLOR_BGR2HSV)\n",
    "        h, s, v = cv2.split(hsv)\n",
    "        s = cv2.convertScaleAbs(s, alpha=saturation_factor, beta=0)\n",
    "        hsv = cv2.merge([h, s, v])\n",
    "        final_frame = cv2.cvtColor(hsv, cv2.COLOR_HSV2BGR)\n",
    "        \n",
    "        out.write(final_frame)\n",
    "\n",
    "    cap.release()\n",
    "    out.release()\n",
    "\n",
    "def process_all_videos_in_folder(folder_path, output_folder_path, brightness_factor=1.2, contrast_factor=1.5, saturation_factor=1.2):\n",
    "    os.makedirs(output_folder_path, exist_ok=True)\n",
    "    \n",
    "    for file_name in os.listdir(folder_path):\n",
    "        if file_name.endswith(('.mp4', '.avi', '.mov', '.mkv')):\n",
    "            input_path = os.path.join(folder_path, file_name)\n",
    "            output_path = os.path.join(output_folder_path, f\"adjusted_{file_name}\")\n",
    "            \n",
    "            print(f\"Processing {file_name}...\")\n",
    "            adjust_video_for_ocr(input_path, output_path, brightness_factor, contrast_factor, saturation_factor)\n",
    "            print(f\"Finished processing {file_name}.\")\n",
    "\n",
    "input_folder = \"D:/test3/video_dataset\"\n",
    "output_folder = \"D:/test3/video_dataset1\"\n",
    "\n",
    "process_all_videos_in_folder(input_folder, output_folder, brightness_factor=1.2, contrast_factor=1.5, saturation_factor=1.2)"
   ]
  }
 ],
 "metadata": {
  "kernelspec": {
   "display_name": "Python 3",
   "language": "python",
   "name": "python3"
  },
  "language_info": {
   "codemirror_mode": {
    "name": "ipython",
    "version": 3
   },
   "file_extension": ".py",
   "mimetype": "text/x-python",
   "name": "python",
   "nbconvert_exporter": "python",
   "pygments_lexer": "ipython3",
   "version": "3.11.1"
  }
 },
 "nbformat": 4,
 "nbformat_minor": 2
}
